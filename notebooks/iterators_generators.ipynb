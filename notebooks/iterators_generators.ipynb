{
  "nbformat": 4,
  "nbformat_minor": 0,
  "metadata": {
    "colab": {
      "name": "iterators_generators.ipynb",
      "provenance": [],
      "collapsed_sections": [],
      "authorship_tag": "ABX9TyNDS/wgj3+eQRyfmdXL3RJM",
      "include_colab_link": true
    },
    "kernelspec": {
      "name": "python3",
      "display_name": "Python 3"
    },
    "language_info": {
      "name": "python"
    }
  },
  "cells": [
    {
      "cell_type": "markdown",
      "metadata": {
        "id": "view-in-github",
        "colab_type": "text"
      },
      "source": [
        "<a href=\"https://colab.research.google.com/github/cloudhood/learning-python/blob/main/notebooks/iterators_generators.ipynb\" target=\"_parent\"><img src=\"https://colab.research.google.com/assets/colab-badge.svg\" alt=\"Open In Colab\"/></a>"
      ]
    },
    {
      "cell_type": "markdown",
      "source": [
        "Notice: there is no index or incrementing.\n",
        "\n",
        "## Iterator protocol\n",
        "The for loop first checks if the object `s` is referring to is **iterable** - can it iterate over it. If it is, each time it asks for the next thing, and it's assigned `_` each time. When the loop reaches the end of the loop, it exists.\n",
        "1. Are you iterable?\n",
        "2. Get the next value from the object from each iteration.\n",
        "3. Exit the loop at the end."
      ],
      "metadata": {
        "id": "gts2yqjlQ6cE"
      }
    },
    {
      "cell_type": "code",
      "execution_count": 4,
      "metadata": {
        "colab": {
          "base_uri": "https://localhost:8080/"
        },
        "id": "UPvXhZqZQz0P",
        "outputId": "3636c4f0-2225-4bdb-dec8-e993511d52f5"
      },
      "outputs": [
        {
          "output_type": "stream",
          "name": "stdout",
          "text": [
            "Start\n",
            "a\n",
            "b\n",
            "c\n",
            "d\n",
            "e\n",
            "End\n"
          ]
        }
      ],
      "source": [
        "s = \"abcde\"\n",
        "\n",
        "print(\"Start\")\n",
        "for _ in s:\n",
        "  print(_)\n",
        "print(\"End\")"
      ]
    },
    {
      "cell_type": "code",
      "source": [
        "i = iter(s)\n",
        "i"
      ],
      "metadata": {
        "colab": {
          "base_uri": "https://localhost:8080/"
        },
        "id": "VZ_Pp5v6Q54S",
        "outputId": "8e5aa17c-cb69-4bc1-fba5-60988168a0c1"
      },
      "execution_count": 9,
      "outputs": [
        {
          "output_type": "execute_result",
          "data": {
            "text/plain": [
              "<str_iterator at 0x7f797bc85cd0>"
            ]
          },
          "metadata": {},
          "execution_count": 9
        }
      ]
    },
    {
      "cell_type": "code",
      "source": [
        "def _for(x):\n",
        "  i = iter(x)\n",
        "  while True:\n",
        "    try:\n",
        "      print(next(i))\n",
        "    except StopIteration:\n",
        "      break"
      ],
      "metadata": {
        "id": "--2UKqi6SNaQ"
      },
      "execution_count": 20,
      "outputs": []
    },
    {
      "cell_type": "code",
      "source": [
        "_for(s)"
      ],
      "metadata": {
        "colab": {
          "base_uri": "https://localhost:8080/"
        },
        "id": "oWCIapQ5Tmgr",
        "outputId": "ea25bea1-497d-4665-a43b-88c01fcc8e8c"
      },
      "execution_count": 21,
      "outputs": [
        {
          "output_type": "stream",
          "name": "stdout",
          "text": [
            "a\n",
            "b\n",
            "c\n",
            "d\n",
            "e\n"
          ]
        }
      ]
    },
    {
      "cell_type": "code",
      "source": [
        "l = [1, 2, 3, 4]\n",
        "d = {\"a\": 1, \"b\": 2, \"c\": 3}"
      ],
      "metadata": {
        "id": "zZ42-4ytUcqU"
      },
      "execution_count": 26,
      "outputs": []
    },
    {
      "cell_type": "code",
      "source": [
        "_for(l)"
      ],
      "metadata": {
        "colab": {
          "base_uri": "https://localhost:8080/"
        },
        "id": "vmGpTZXvTpLM",
        "outputId": "af6120a6-034e-4ecb-d656-aaf8d4a247f9"
      },
      "execution_count": 27,
      "outputs": [
        {
          "output_type": "stream",
          "name": "stdout",
          "text": [
            "1\n",
            "2\n",
            "3\n",
            "4\n"
          ]
        }
      ]
    },
    {
      "cell_type": "code",
      "source": [
        "_for(d)"
      ],
      "metadata": {
        "colab": {
          "base_uri": "https://localhost:8080/"
        },
        "id": "nfWH68pQTq8-",
        "outputId": "9fbf73df-73dc-4e39-a2b7-1cdd020e1464"
      },
      "execution_count": 28,
      "outputs": [
        {
          "output_type": "stream",
          "name": "stdout",
          "text": [
            "a\n",
            "b\n",
            "c\n"
          ]
        }
      ]
    },
    {
      "cell_type": "code",
      "source": [
        "_for(d.items())"
      ],
      "metadata": {
        "colab": {
          "base_uri": "https://localhost:8080/"
        },
        "id": "vhA7BHrdTtcE",
        "outputId": "2f12a036-c4f6-4d84-e51e-3d42e0932f59"
      },
      "execution_count": 29,
      "outputs": [
        {
          "output_type": "stream",
          "name": "stdout",
          "text": [
            "('a', 1)\n",
            "('b', 2)\n",
            "('c', 3)\n"
          ]
        }
      ]
    },
    {
      "cell_type": "code",
      "source": [
        "# https://stackoverflow.com/questions/54387889/how-does-the-python-for-loop-actually-work\n",
        "import dis\n",
        "dis.dis(\"for _ in s: pass\")"
      ],
      "metadata": {
        "colab": {
          "base_uri": "https://localhost:8080/"
        },
        "id": "93_sERIQSf9x",
        "outputId": "74d886ad-9546-4cae-e81c-472d6d2f22f4"
      },
      "execution_count": 30,
      "outputs": [
        {
          "output_type": "stream",
          "name": "stdout",
          "text": [
            "  1           0 SETUP_LOOP              12 (to 14)\n",
            "              2 LOAD_NAME                0 (s)\n",
            "              4 GET_ITER\n",
            "        >>    6 FOR_ITER                 4 (to 12)\n",
            "              8 STORE_NAME               1 (_)\n",
            "             10 JUMP_ABSOLUTE            6\n",
            "        >>   12 POP_BLOCK\n",
            "        >>   14 LOAD_CONST               0 (None)\n",
            "             16 RETURN_VALUE\n"
          ]
        }
      ]
    },
    {
      "cell_type": "markdown",
      "source": [
        "## Iterable vs Iterator\n",
        "* Iterable: When we run `iter()` on the object it returns an `iterator` obeject rather than raising a `TypeError`. It can be put into a `for` loop: strings, lists, tuples, dicts, sets, files, etc. \n",
        "* Iterator: Object on which `next()` is run. Not necessarily the original object, but it can be. This is what is being invoked on each iteration, and raises a `StopIteration` at the end. "
      ],
      "metadata": {
        "id": "1fAy3qSxT3-b"
      }
    },
    {
      "cell_type": "code",
      "source": [
        "iter(s)"
      ],
      "metadata": {
        "colab": {
          "base_uri": "https://localhost:8080/"
        },
        "id": "X-hGAJVfUZ90",
        "outputId": "c1337827-5e53-4bd4-cff6-7199a2c85075"
      },
      "execution_count": 32,
      "outputs": [
        {
          "output_type": "execute_result",
          "data": {
            "text/plain": [
              "<str_iterator at 0x7f7973c3f210>"
            ]
          },
          "metadata": {},
          "execution_count": 32
        }
      ]
    },
    {
      "cell_type": "code",
      "source": [
        "iter(l)"
      ],
      "metadata": {
        "colab": {
          "base_uri": "https://localhost:8080/"
        },
        "id": "8elw6YPbUkKf",
        "outputId": "bebaf4f8-40b3-443c-cfd7-cfd3cf4f53c6"
      },
      "execution_count": 33,
      "outputs": [
        {
          "output_type": "execute_result",
          "data": {
            "text/plain": [
              "<list_iterator at 0x7f7973c44a90>"
            ]
          },
          "metadata": {},
          "execution_count": 33
        }
      ]
    },
    {
      "cell_type": "code",
      "source": [
        "iter(d)"
      ],
      "metadata": {
        "colab": {
          "base_uri": "https://localhost:8080/"
        },
        "id": "nyy1JQLDUlej",
        "outputId": "2b581959-6be6-41b3-fab1-1ab69ae8fa74"
      },
      "execution_count": 34,
      "outputs": [
        {
          "output_type": "execute_result",
          "data": {
            "text/plain": [
              "<dict_keyiterator at 0x7f7973c54170>"
            ]
          },
          "metadata": {},
          "execution_count": 34
        }
      ]
    },
    {
      "cell_type": "code",
      "source": [
        "iter(d.items())"
      ],
      "metadata": {
        "colab": {
          "base_uri": "https://localhost:8080/"
        },
        "id": "Xr8T8I6gUl5o",
        "outputId": "d33b4986-3849-401c-96b5-0649488c7e8f"
      },
      "execution_count": 35,
      "outputs": [
        {
          "output_type": "execute_result",
          "data": {
            "text/plain": [
              "<dict_itemiterator at 0x7f7973c3a770>"
            ]
          },
          "metadata": {},
          "execution_count": 35
        }
      ]
    },
    {
      "cell_type": "code",
      "source": [
        "## Printed representation shows address in memory - notice how new iterators are\n",
        "## returned with each invocation of `iter()`.\n",
        "iter(s)"
      ],
      "metadata": {
        "colab": {
          "base_uri": "https://localhost:8080/"
        },
        "id": "pQVvpiTDUnZ-",
        "outputId": "cd048335-98f4-479f-806f-66ae947216be"
      },
      "execution_count": 38,
      "outputs": [
        {
          "output_type": "execute_result",
          "data": {
            "text/plain": [
              "<str_iterator at 0x7f7973c8a950>"
            ]
          },
          "metadata": {},
          "execution_count": 38
        }
      ]
    },
    {
      "cell_type": "code",
      "source": [
        "iter(s)"
      ],
      "metadata": {
        "colab": {
          "base_uri": "https://localhost:8080/"
        },
        "id": "1rlCfegjUrMS",
        "outputId": "66c714b3-6d75-47c7-f2ce-a4fb75564c88"
      },
      "execution_count": 37,
      "outputs": [
        {
          "output_type": "execute_result",
          "data": {
            "text/plain": [
              "<str_iterator at 0x7f7973c59890>"
            ]
          },
          "metadata": {},
          "execution_count": 37
        }
      ]
    },
    {
      "cell_type": "markdown",
      "source": [
        "# Iterator Protocol"
      ],
      "metadata": {
        "id": "hWZrwGcvVB7U"
      }
    },
    {
      "cell_type": "markdown",
      "source": [
        "1. Must respond to `iter()`, returning an `iterator` object.\n",
        "2. The returned  `iterator` must return something new with each invocation of `next()`.\n",
        "3. When there are no more objects to return, then the `iterator` should raise `StopIteration`.\n",
        "\n",
        "How can we add this protocol to our own objects?"
      ],
      "metadata": {
        "id": "OUdLXscoVTwN"
      }
    },
    {
      "cell_type": "code",
      "source": [
        "class MyIterator():\n",
        "  def __init__(self, data):\n",
        "      self.data = data\n",
        "\n",
        "# New instance of MyIterator\n",
        "m = MyIterator(\"abc\")\n",
        "\n",
        "# The iterator object determines what is returned in each iteration\n",
        "for _ in m:\n",
        "  print(_)"
      ],
      "metadata": {
        "colab": {
          "base_uri": "https://localhost:8080/",
          "height": 217
        },
        "id": "BwTjhfWiVRFr",
        "outputId": "7db0df20-fd08-443d-aa91-a9de468f8182"
      },
      "execution_count": 40,
      "outputs": [
        {
          "output_type": "error",
          "ename": "TypeError",
          "evalue": "ignored",
          "traceback": [
            "\u001b[0;31m---------------------------------------------------------------------------\u001b[0m",
            "\u001b[0;31mTypeError\u001b[0m                                 Traceback (most recent call last)",
            "\u001b[0;32m<ipython-input-40-9a31f8522e56>\u001b[0m in \u001b[0;36m<module>\u001b[0;34m()\u001b[0m\n\u001b[1;32m      7\u001b[0m \u001b[0;34m\u001b[0m\u001b[0m\n\u001b[1;32m      8\u001b[0m \u001b[0;31m# The iterator object determines what is returned in each iteration\u001b[0m\u001b[0;34m\u001b[0m\u001b[0;34m\u001b[0m\u001b[0;34m\u001b[0m\u001b[0m\n\u001b[0;32m----> 9\u001b[0;31m \u001b[0;32mfor\u001b[0m \u001b[0m_\u001b[0m \u001b[0;32min\u001b[0m \u001b[0mm\u001b[0m\u001b[0;34m:\u001b[0m\u001b[0;34m\u001b[0m\u001b[0;34m\u001b[0m\u001b[0m\n\u001b[0m\u001b[1;32m     10\u001b[0m   \u001b[0mprint\u001b[0m\u001b[0;34m(\u001b[0m\u001b[0m_\u001b[0m\u001b[0;34m)\u001b[0m\u001b[0;34m\u001b[0m\u001b[0;34m\u001b[0m\u001b[0m\n",
            "\u001b[0;31mTypeError\u001b[0m: 'MyIterator' object is not iterable"
          ]
        }
      ]
    },
    {
      "cell_type": "markdown",
      "source": [
        "We need to make `MyIterator` **iterable**. `iterable` implements `__iter__` while `iterator` implements `__next__`"
      ],
      "metadata": {
        "id": "po5GaFbWV6LB"
      }
    },
    {
      "cell_type": "code",
      "source": [
        "class MyIterator():\n",
        "  def __init__(self, data):\n",
        "      print(\"In __init__\")\n",
        "      self.data = data\n",
        "      self.index = 0 # Keep track of where we are in our object\n",
        "  # For loop will call iter() once.\n",
        "  def __iter__(self):\n",
        "      print(\"In __iter__\")\n",
        "      return self    \n",
        "  \n",
        "  # Invoked each time next() is run.\n",
        "  def __next__(self):\n",
        "      print(f\"In __next__,\\nCurrent index: {self.index}\")\n",
        "      if self.index >= len(self.data):\n",
        "          print(\"Raising StopIteration\")\n",
        "          raise StopIteration\n",
        "      value = self.data[self.index]\n",
        "      self.index += 1\n",
        "      print(f\"Incremented index: {self.index}\")\n",
        "      return value\n",
        "\n",
        "# New instance of MyIterator\n",
        "m = MyIterator(\"abc\")\n",
        "\n",
        "# The iterator object determines what is returned in each iteration\n",
        "for _ in m:\n",
        "  print(_)"
      ],
      "metadata": {
        "colab": {
          "base_uri": "https://localhost:8080/"
        },
        "id": "24FkuFpGV5Q0",
        "outputId": "27801a9e-6646-4e6a-9587-5d1bc8b68866"
      },
      "execution_count": 44,
      "outputs": [
        {
          "output_type": "stream",
          "name": "stdout",
          "text": [
            "In __init__\n",
            "In __iter__\n",
            "In __next__,\n",
            "Current index: 0\n",
            "Incremented index: 1\n",
            "a\n",
            "In __next__,\n",
            "Current index: 1\n",
            "Incremented index: 2\n",
            "b\n",
            "In __next__,\n",
            "Current index: 2\n",
            "Incremented index: 3\n",
            "c\n",
            "In __next__,\n",
            "Current index: 3\n",
            "Raising StopIteration\n"
          ]
        }
      ]
    },
    {
      "cell_type": "code",
      "source": [
        ""
      ],
      "metadata": {
        "id": "w4aqp6yjXFYY"
      },
      "execution_count": null,
      "outputs": []
    }
  ]
}